{
  "nbformat": 4,
  "nbformat_minor": 0,
  "metadata": {
    "colab": {
      "name": "Copia de Programacion III.ipynb",
      "provenance": [],
      "collapsed_sections": []
    },
    "kernelspec": {
      "name": "python3",
      "display_name": "Python 3"
    },
    "language_info": {
      "name": "python"
    }
  },
  "cells": [
    {
      "cell_type": "code",
      "metadata": {
        "colab": {
          "base_uri": "https://localhost:8080/"
        },
        "id": "SPvxl1X9Fh9I",
        "outputId": "382a9575-04e8-4f1c-f63a-7034b7eb3196"
      },
      "source": [
        "pip install odfpy"
      ],
      "execution_count": null,
      "outputs": [
        {
          "output_type": "stream",
          "name": "stdout",
          "text": [
            "Requirement already satisfied: odfpy in /usr/local/lib/python3.7/dist-packages (1.4.1)\n",
            "Requirement already satisfied: defusedxml in /usr/local/lib/python3.7/dist-packages (from odfpy) (0.7.1)\n"
          ]
        }
      ]
    },
    {
      "cell_type": "code",
      "metadata": {
        "id": "Zuw1v45B_jkN"
      },
      "source": [
        "import pandas as pd \n",
        "import io \n",
        "import plotly.express as px "
      ],
      "execution_count": 3,
      "outputs": []
    },
    {
      "cell_type": "code",
      "metadata": {
        "id": "K9hmAtHo1-ZO"
      },
      "source": [
        "df = pd.read_excel(\"/content/Fallecimientos_tipo.xlsx\")"
      ],
      "execution_count": 4,
      "outputs": []
    },
    {
      "cell_type": "code",
      "metadata": {
        "colab": {
          "base_uri": "https://localhost:8080/",
          "height": 297
        },
        "id": "wLNJeqPgE-60",
        "outputId": "b7162746-96f7-402a-80cd-1fcfb584f036"
      },
      "source": [
        "df"
      ],
      "execution_count": 5,
      "outputs": [
        {
          "output_type": "execute_result",
          "data": {
            "text/html": [
              "<div>\n",
              "<style scoped>\n",
              "    .dataframe tbody tr th:only-of-type {\n",
              "        vertical-align: middle;\n",
              "    }\n",
              "\n",
              "    .dataframe tbody tr th {\n",
              "        vertical-align: top;\n",
              "    }\n",
              "\n",
              "    .dataframe thead th {\n",
              "        text-align: right;\n",
              "    }\n",
              "</style>\n",
              "<table border=\"1\" class=\"dataframe\">\n",
              "  <thead>\n",
              "    <tr style=\"text-align: right;\">\n",
              "      <th></th>\n",
              "      <th>TIPO</th>\n",
              "      <th>2016</th>\n",
              "      <th>2017</th>\n",
              "      <th>2018</th>\n",
              "      <th>2019</th>\n",
              "      <th>2020</th>\n",
              "      <th>2021</th>\n",
              "      <th>FALLECIMIENTOS_TOTALES</th>\n",
              "    </tr>\n",
              "  </thead>\n",
              "  <tbody>\n",
              "    <tr>\n",
              "      <th>0</th>\n",
              "      <td>Aplastamiento</td>\n",
              "      <td>0</td>\n",
              "      <td>0</td>\n",
              "      <td>0</td>\n",
              "      <td>4</td>\n",
              "      <td>2</td>\n",
              "      <td>6</td>\n",
              "      <td>12</td>\n",
              "    </tr>\n",
              "    <tr>\n",
              "      <th>1</th>\n",
              "      <td>Atropello</td>\n",
              "      <td>324</td>\n",
              "      <td>275</td>\n",
              "      <td>241</td>\n",
              "      <td>310</td>\n",
              "      <td>214</td>\n",
              "      <td>179</td>\n",
              "      <td>1543</td>\n",
              "    </tr>\n",
              "    <tr>\n",
              "      <th>2</th>\n",
              "      <td>Caída</td>\n",
              "      <td>13</td>\n",
              "      <td>6</td>\n",
              "      <td>6</td>\n",
              "      <td>11</td>\n",
              "      <td>7</td>\n",
              "      <td>9</td>\n",
              "      <td>52</td>\n",
              "    </tr>\n",
              "    <tr>\n",
              "      <th>3</th>\n",
              "      <td>Colisiones</td>\n",
              "      <td>1179</td>\n",
              "      <td>913</td>\n",
              "      <td>846</td>\n",
              "      <td>1219</td>\n",
              "      <td>1061</td>\n",
              "      <td>965</td>\n",
              "      <td>6183</td>\n",
              "    </tr>\n",
              "    <tr>\n",
              "      <th>4</th>\n",
              "      <td>Deslizamiento</td>\n",
              "      <td>391</td>\n",
              "      <td>311</td>\n",
              "      <td>272</td>\n",
              "      <td>423</td>\n",
              "      <td>370</td>\n",
              "      <td>322</td>\n",
              "      <td>2089</td>\n",
              "    </tr>\n",
              "    <tr>\n",
              "      <th>5</th>\n",
              "      <td>Estrellamiento</td>\n",
              "      <td>67</td>\n",
              "      <td>63</td>\n",
              "      <td>56</td>\n",
              "      <td>93</td>\n",
              "      <td>74</td>\n",
              "      <td>52</td>\n",
              "      <td>405</td>\n",
              "    </tr>\n",
              "    <tr>\n",
              "      <th>6</th>\n",
              "      <td>Volcadura</td>\n",
              "      <td>7</td>\n",
              "      <td>6</td>\n",
              "      <td>4</td>\n",
              "      <td>9</td>\n",
              "      <td>3</td>\n",
              "      <td>6</td>\n",
              "      <td>35</td>\n",
              "    </tr>\n",
              "    <tr>\n",
              "      <th>7</th>\n",
              "      <td>Sin Especificación</td>\n",
              "      <td>0</td>\n",
              "      <td>0</td>\n",
              "      <td>0</td>\n",
              "      <td>1</td>\n",
              "      <td>1</td>\n",
              "      <td>0</td>\n",
              "      <td>2</td>\n",
              "    </tr>\n",
              "  </tbody>\n",
              "</table>\n",
              "</div>"
            ],
            "text/plain": [
              "                 TIPO  2016  2017  ...  2020  2021  FALLECIMIENTOS_TOTALES\n",
              "0       Aplastamiento     0     0  ...     2     6                      12\n",
              "1           Atropello   324   275  ...   214   179                    1543\n",
              "2               Caída    13     6  ...     7     9                      52\n",
              "3          Colisiones  1179   913  ...  1061   965                    6183\n",
              "4       Deslizamiento   391   311  ...   370   322                    2089\n",
              "5      Estrellamiento    67    63  ...    74    52                     405\n",
              "6           Volcadura     7     6  ...     3     6                      35\n",
              "7  Sin Especificación     0     0  ...     1     0                       2\n",
              "\n",
              "[8 rows x 8 columns]"
            ]
          },
          "metadata": {},
          "execution_count": 5
        }
      ]
    },
    {
      "cell_type": "code",
      "metadata": {
        "colab": {
          "base_uri": "https://localhost:8080/"
        },
        "id": "K1jauXogktjq",
        "outputId": "435e7760-dd5c-470f-eb73-07f83bcebf04"
      },
      "source": [
        "df.info()"
      ],
      "execution_count": 6,
      "outputs": [
        {
          "output_type": "stream",
          "name": "stdout",
          "text": [
            "<class 'pandas.core.frame.DataFrame'>\n",
            "RangeIndex: 8 entries, 0 to 7\n",
            "Data columns (total 8 columns):\n",
            " #   Column                  Non-Null Count  Dtype \n",
            "---  ------                  --------------  ----- \n",
            " 0   TIPO                    8 non-null      object\n",
            " 1   2016                    8 non-null      int64 \n",
            " 2   2017                    8 non-null      int64 \n",
            " 3   2018                    8 non-null      int64 \n",
            " 4   2019                    8 non-null      int64 \n",
            " 5   2020                    8 non-null      int64 \n",
            " 6   2021                    8 non-null      int64 \n",
            " 7   FALLECIMIENTOS_TOTALES  8 non-null      int64 \n",
            "dtypes: int64(7), object(1)\n",
            "memory usage: 640.0+ bytes\n"
          ]
        }
      ]
    },
    {
      "cell_type": "code",
      "metadata": {
        "colab": {
          "base_uri": "https://localhost:8080/",
          "height": 297
        },
        "id": "qtNu6bUQkg00",
        "outputId": "273352c5-49fa-4a38-a124-63a9b157728e"
      },
      "source": [
        "df.describe()"
      ],
      "execution_count": 10,
      "outputs": [
        {
          "output_type": "execute_result",
          "data": {
            "text/html": [
              "<div>\n",
              "<style scoped>\n",
              "    .dataframe tbody tr th:only-of-type {\n",
              "        vertical-align: middle;\n",
              "    }\n",
              "\n",
              "    .dataframe tbody tr th {\n",
              "        vertical-align: top;\n",
              "    }\n",
              "\n",
              "    .dataframe thead th {\n",
              "        text-align: right;\n",
              "    }\n",
              "</style>\n",
              "<table border=\"1\" class=\"dataframe\">\n",
              "  <thead>\n",
              "    <tr style=\"text-align: right;\">\n",
              "      <th></th>\n",
              "      <th>2016</th>\n",
              "      <th>2017</th>\n",
              "      <th>2018</th>\n",
              "      <th>2019</th>\n",
              "      <th>2020</th>\n",
              "      <th>2021</th>\n",
              "      <th>FALLECIMIENTOS_TOTALES</th>\n",
              "    </tr>\n",
              "  </thead>\n",
              "  <tbody>\n",
              "    <tr>\n",
              "      <th>count</th>\n",
              "      <td>8.000000</td>\n",
              "      <td>8.000000</td>\n",
              "      <td>8.000000</td>\n",
              "      <td>8.000000</td>\n",
              "      <td>8.00000</td>\n",
              "      <td>8.000000</td>\n",
              "      <td>8.000000</td>\n",
              "    </tr>\n",
              "    <tr>\n",
              "      <th>mean</th>\n",
              "      <td>247.625000</td>\n",
              "      <td>196.750000</td>\n",
              "      <td>178.125000</td>\n",
              "      <td>258.750000</td>\n",
              "      <td>216.50000</td>\n",
              "      <td>192.375000</td>\n",
              "      <td>1290.125000</td>\n",
              "    </tr>\n",
              "    <tr>\n",
              "      <th>std</th>\n",
              "      <td>407.441473</td>\n",
              "      <td>316.289086</td>\n",
              "      <td>292.071634</td>\n",
              "      <td>419.905687</td>\n",
              "      <td>366.25089</td>\n",
              "      <td>332.467372</td>\n",
              "      <td>2132.301938</td>\n",
              "    </tr>\n",
              "    <tr>\n",
              "      <th>min</th>\n",
              "      <td>0.000000</td>\n",
              "      <td>0.000000</td>\n",
              "      <td>0.000000</td>\n",
              "      <td>1.000000</td>\n",
              "      <td>1.00000</td>\n",
              "      <td>0.000000</td>\n",
              "      <td>2.000000</td>\n",
              "    </tr>\n",
              "    <tr>\n",
              "      <th>25%</th>\n",
              "      <td>5.250000</td>\n",
              "      <td>4.500000</td>\n",
              "      <td>3.000000</td>\n",
              "      <td>7.750000</td>\n",
              "      <td>2.75000</td>\n",
              "      <td>6.000000</td>\n",
              "      <td>29.250000</td>\n",
              "    </tr>\n",
              "    <tr>\n",
              "      <th>50%</th>\n",
              "      <td>40.000000</td>\n",
              "      <td>34.500000</td>\n",
              "      <td>31.000000</td>\n",
              "      <td>52.000000</td>\n",
              "      <td>40.50000</td>\n",
              "      <td>30.500000</td>\n",
              "      <td>228.500000</td>\n",
              "    </tr>\n",
              "    <tr>\n",
              "      <th>75%</th>\n",
              "      <td>340.750000</td>\n",
              "      <td>284.000000</td>\n",
              "      <td>248.750000</td>\n",
              "      <td>338.250000</td>\n",
              "      <td>253.00000</td>\n",
              "      <td>214.750000</td>\n",
              "      <td>1679.500000</td>\n",
              "    </tr>\n",
              "    <tr>\n",
              "      <th>max</th>\n",
              "      <td>1179.000000</td>\n",
              "      <td>913.000000</td>\n",
              "      <td>846.000000</td>\n",
              "      <td>1219.000000</td>\n",
              "      <td>1061.00000</td>\n",
              "      <td>965.000000</td>\n",
              "      <td>6183.000000</td>\n",
              "    </tr>\n",
              "  </tbody>\n",
              "</table>\n",
              "</div>"
            ],
            "text/plain": [
              "              2016        2017  ...        2021  FALLECIMIENTOS_TOTALES\n",
              "count     8.000000    8.000000  ...    8.000000                8.000000\n",
              "mean    247.625000  196.750000  ...  192.375000             1290.125000\n",
              "std     407.441473  316.289086  ...  332.467372             2132.301938\n",
              "min       0.000000    0.000000  ...    0.000000                2.000000\n",
              "25%       5.250000    4.500000  ...    6.000000               29.250000\n",
              "50%      40.000000   34.500000  ...   30.500000              228.500000\n",
              "75%     340.750000  284.000000  ...  214.750000             1679.500000\n",
              "max    1179.000000  913.000000  ...  965.000000             6183.000000\n",
              "\n",
              "[8 rows x 7 columns]"
            ]
          },
          "metadata": {},
          "execution_count": 10
        }
      ]
    },
    {
      "cell_type": "code",
      "metadata": {
        "colab": {
          "base_uri": "https://localhost:8080/",
          "height": 777
        },
        "id": "h5m6Ey-lk1uz",
        "outputId": "c99f66a2-bbfd-4cb2-d19e-4cf5928a1d1b"
      },
      "source": [
        "df.hist(figsize=(10,10))"
      ],
      "execution_count": 8,
      "outputs": [
        {
          "output_type": "execute_result",
          "data": {
            "text/plain": [
              "array([[<matplotlib.axes._subplots.AxesSubplot object at 0x7f9171213590>,\n",
              "        <matplotlib.axes._subplots.AxesSubplot object at 0x7f91711e7bd0>,\n",
              "        <matplotlib.axes._subplots.AxesSubplot object at 0x7f91711ab1d0>],\n",
              "       [<matplotlib.axes._subplots.AxesSubplot object at 0x7f9171163410>,\n",
              "        <matplotlib.axes._subplots.AxesSubplot object at 0x7f9171118a10>,\n",
              "        <matplotlib.axes._subplots.AxesSubplot object at 0x7f91710d0fd0>],\n",
              "       [<matplotlib.axes._subplots.AxesSubplot object at 0x7f91710936d0>,\n",
              "        <matplotlib.axes._subplots.AxesSubplot object at 0x7f9171047c10>,\n",
              "        <matplotlib.axes._subplots.AxesSubplot object at 0x7f9171047c50>]],\n",
              "      dtype=object)"
            ]
          },
          "metadata": {},
          "execution_count": 8
        },
        {
          "output_type": "display_data",
          "data": {
            "image/png": "[encoded data removed]",
            "text/plain": [
              "<Figure size 720x720 with 9 Axes>"
            ]
          },
          "metadata": {
            "needs_background": "light"
          }
        }
      ]
    },
    {
      "cell_type": "code",
      "metadata": {
        "colab": {
          "base_uri": "https://localhost:8080/"
        },
        "id": "51kMF-EtlY01",
        "outputId": "33505641-ce83-44f4-a9d9-d31b16dd9406"
      },
      "source": [
        "df.isna().sum()"
      ],
      "execution_count": 9,
      "outputs": [
        {
          "output_type": "execute_result",
          "data": {
            "text/plain": [
              "TIPO                      0\n",
              "2016                      0\n",
              "2017                      0\n",
              "2018                      0\n",
              "2019                      0\n",
              "2020                      0\n",
              "2021                      0\n",
              "FALLECIMIENTOS_TOTALES    0\n",
              "dtype: int64"
            ]
          },
          "metadata": {},
          "execution_count": 9
        }
      ]
    },
    {
      "cell_type": "code",
      "metadata": {
        "id": "lA-z9dF-oohm"
      },
      "source": [
        "df['TIPO'].replace(['Aplastamiento', 'Atropello', 'Caída', 'Colisiones',\n",
        "       'Deslizamiento', 'Estrellamiento', 'Volcadura',\n",
        "       'Sin Especificación'],[0,1,2,3,4,5,6,7],inplace=True)"
      ],
      "execution_count": 12,
      "outputs": []
    },
    {
      "cell_type": "code",
      "metadata": {
        "colab": {
          "base_uri": "https://localhost:8080/"
        },
        "id": "Vvpoc9IRhd9f",
        "outputId": "8d8d8d69-b297-4407-f41e-f1ef87a5e27c"
      },
      "source": [
        "df[\"TIPO\"].unique()"
      ],
      "execution_count": 13,
      "outputs": [
        {
          "output_type": "execute_result",
          "data": {
            "text/plain": [
              "array([0, 1, 2, 3, 4, 5, 6, 7])"
            ]
          },
          "metadata": {},
          "execution_count": 13
        }
      ]
    },
    {
      "cell_type": "code",
      "metadata": {
        "colab": {
          "base_uri": "https://localhost:8080/",
          "height": 297
        },
        "id": "IqCz8f-nvl8q",
        "outputId": "7ac70304-ac06-45f4-8bdf-8187349fda28"
      },
      "source": [
        "df"
      ],
      "execution_count": 14,
      "outputs": [
        {
          "output_type": "execute_result",
          "data": {
            "text/html": [
              "<div>\n",
              "<style scoped>\n",
              "    .dataframe tbody tr th:only-of-type {\n",
              "        vertical-align: middle;\n",
              "    }\n",
              "\n",
              "    .dataframe tbody tr th {\n",
              "        vertical-align: top;\n",
              "    }\n",
              "\n",
              "    .dataframe thead th {\n",
              "        text-align: right;\n",
              "    }\n",
              "</style>\n",
              "<table border=\"1\" class=\"dataframe\">\n",
              "  <thead>\n",
              "    <tr style=\"text-align: right;\">\n",
              "      <th></th>\n",
              "      <th>TIPO</th>\n",
              "      <th>2016</th>\n",
              "      <th>2017</th>\n",
              "      <th>2018</th>\n",
              "      <th>2019</th>\n",
              "      <th>2020</th>\n",
              "      <th>2021</th>\n",
              "      <th>FALLECIMIENTOS_TOTALES</th>\n",
              "    </tr>\n",
              "  </thead>\n",
              "  <tbody>\n",
              "    <tr>\n",
              "      <th>0</th>\n",
              "      <td>0</td>\n",
              "      <td>0</td>\n",
              "      <td>0</td>\n",
              "      <td>0</td>\n",
              "      <td>4</td>\n",
              "      <td>2</td>\n",
              "      <td>6</td>\n",
              "      <td>12</td>\n",
              "    </tr>\n",
              "    <tr>\n",
              "      <th>1</th>\n",
              "      <td>1</td>\n",
              "      <td>324</td>\n",
              "      <td>275</td>\n",
              "      <td>241</td>\n",
              "      <td>310</td>\n",
              "      <td>214</td>\n",
              "      <td>179</td>\n",
              "      <td>1543</td>\n",
              "    </tr>\n",
              "    <tr>\n",
              "      <th>2</th>\n",
              "      <td>2</td>\n",
              "      <td>13</td>\n",
              "      <td>6</td>\n",
              "      <td>6</td>\n",
              "      <td>11</td>\n",
              "      <td>7</td>\n",
              "      <td>9</td>\n",
              "      <td>52</td>\n",
              "    </tr>\n",
              "    <tr>\n",
              "      <th>3</th>\n",
              "      <td>3</td>\n",
              "      <td>1179</td>\n",
              "      <td>913</td>\n",
              "      <td>846</td>\n",
              "      <td>1219</td>\n",
              "      <td>1061</td>\n",
              "      <td>965</td>\n",
              "      <td>6183</td>\n",
              "    </tr>\n",
              "    <tr>\n",
              "      <th>4</th>\n",
              "      <td>4</td>\n",
              "      <td>391</td>\n",
              "      <td>311</td>\n",
              "      <td>272</td>\n",
              "      <td>423</td>\n",
              "      <td>370</td>\n",
              "      <td>322</td>\n",
              "      <td>2089</td>\n",
              "    </tr>\n",
              "    <tr>\n",
              "      <th>5</th>\n",
              "      <td>5</td>\n",
              "      <td>67</td>\n",
              "      <td>63</td>\n",
              "      <td>56</td>\n",
              "      <td>93</td>\n",
              "      <td>74</td>\n",
              "      <td>52</td>\n",
              "      <td>405</td>\n",
              "    </tr>\n",
              "    <tr>\n",
              "      <th>6</th>\n",
              "      <td>6</td>\n",
              "      <td>7</td>\n",
              "      <td>6</td>\n",
              "      <td>4</td>\n",
              "      <td>9</td>\n",
              "      <td>3</td>\n",
              "      <td>6</td>\n",
              "      <td>35</td>\n",
              "    </tr>\n",
              "    <tr>\n",
              "      <th>7</th>\n",
              "      <td>7</td>\n",
              "      <td>0</td>\n",
              "      <td>0</td>\n",
              "      <td>0</td>\n",
              "      <td>1</td>\n",
              "      <td>1</td>\n",
              "      <td>0</td>\n",
              "      <td>2</td>\n",
              "    </tr>\n",
              "  </tbody>\n",
              "</table>\n",
              "</div>"
            ],
            "text/plain": [
              "   TIPO  2016  2017  2018  2019  2020  2021  FALLECIMIENTOS_TOTALES\n",
              "0     0     0     0     0     4     2     6                      12\n",
              "1     1   324   275   241   310   214   179                    1543\n",
              "2     2    13     6     6    11     7     9                      52\n",
              "3     3  1179   913   846  1219  1061   965                    6183\n",
              "4     4   391   311   272   423   370   322                    2089\n",
              "5     5    67    63    56    93    74    52                     405\n",
              "6     6     7     6     4     9     3     6                      35\n",
              "7     7     0     0     0     1     1     0                       2"
            ]
          },
          "metadata": {},
          "execution_count": 14
        }
      ]
    },
    {
      "cell_type": "code",
      "metadata": {
        "colab": {
          "base_uri": "https://localhost:8080/",
          "height": 282
        },
        "id": "VOaWgOlQ5rsq",
        "outputId": "4f097a10-148f-42d2-dce7-5e8190e99611"
      },
      "source": [
        "import matplotlib.pyplot as plt\n",
        "\n",
        "plt.bar(df['TIPO'],df['FALLECIMIENTOS_TOTALES'])"
      ],
      "execution_count": 22,
      "outputs": [
        {
          "output_type": "execute_result",
          "data": {
            "text/plain": [
              "<BarContainer object of 8 artists>"
            ]
          },
          "metadata": {},
          "execution_count": 22
        },
        {
          "output_type": "display_data",
          "data": {
            "image/png": "[encoded data removed]",
            "text/plain": [
              "<Figure size 432x288 with 1 Axes>"
            ]
          },
          "metadata": {
            "needs_background": "light"
          }
        }
      ]
    },
    {
      "cell_type": "markdown",
      "metadata": {
        "id": "NYTVIPz6QZ7o"
      },
      "source": [
        "# MODELO REGRESION LINEAL"
      ]
    },
    {
      "cell_type": "code",
      "metadata": {
        "id": "VVYy8H3K1HQi"
      },
      "source": [
        "Entrenamiento = df.sample(frac=0.6,random_state=0)\n",
        "test =  df.drop(Entrenamiento.index)"
      ],
      "execution_count": 23,
      "outputs": []
    },
    {
      "cell_type": "code",
      "metadata": {
        "colab": {
          "base_uri": "https://localhost:8080/"
        },
        "id": "01F-VuPYSuQl",
        "outputId": "af33fa59-801b-4e36-c866-ad8777cd82dc"
      },
      "source": [
        "print(Entrenamiento)\n",
        "print('---------------------------------')\n",
        "print(test)"
      ],
      "execution_count": 24,
      "outputs": [
        {
          "output_type": "stream",
          "name": "stdout",
          "text": [
            "   TIPO  2016  2017  2018  2019  2020  2021  FALLECIMIENTOS_TOTALES\n",
            "6     6     7     6     4     9     3     6                      35\n",
            "2     2    13     6     6    11     7     9                      52\n",
            "1     1   324   275   241   310   214   179                    1543\n",
            "7     7     0     0     0     1     1     0                       2\n",
            "3     3  1179   913   846  1219  1061   965                    6183\n",
            "---------------------------------\n",
            "   TIPO  2016  2017  2018  2019  2020  2021  FALLECIMIENTOS_TOTALES\n",
            "0     0     0     0     0     4     2     6                      12\n",
            "4     4   391   311   272   423   370   322                    2089\n",
            "5     5    67    63    56    93    74    52                     405\n"
          ]
        }
      ]
    },
    {
      "cell_type": "code",
      "metadata": {
        "id": "TGkmXoCv2Qgt"
      },
      "source": [
        "etiquetas_entrenamiento = Entrenamiento.pop('FALLECIMIENTOS_TOTALES')\n",
        "etiquetas_test = test.pop('FALLECIMIENTOS_TOTALES')"
      ],
      "execution_count": 25,
      "outputs": []
    },
    {
      "cell_type": "code",
      "metadata": {
        "id": "nKYrjq2HvfE_"
      },
      "source": [
        ""
      ],
      "execution_count": null,
      "outputs": []
    },
    {
      "cell_type": "code",
      "metadata": {
        "colab": {
          "base_uri": "https://localhost:8080/"
        },
        "id": "IaQfYP29WEVZ",
        "outputId": "3613b75e-4e5b-41cb-90a9-159ec0aae441"
      },
      "source": [
        "print(etiquetas_entrenamiento)\n",
        "print(etiquetas_test)"
      ],
      "execution_count": 26,
      "outputs": [
        {
          "output_type": "stream",
          "name": "stdout",
          "text": [
            "6      35\n",
            "2      52\n",
            "1    1543\n",
            "7       2\n",
            "3    6183\n",
            "Name: FALLECIMIENTOS_TOTALES, dtype: int64\n",
            "0      12\n",
            "4    2089\n",
            "5     405\n",
            "Name: FALLECIMIENTOS_TOTALES, dtype: int64\n"
          ]
        }
      ]
    },
    {
      "cell_type": "code",
      "metadata": {
        "colab": {
          "base_uri": "https://localhost:8080/"
        },
        "id": "SVhGe5fBRLPw",
        "outputId": "8f473943-2107-4d81-afd3-76bf40bb91f0"
      },
      "source": [
        "etiquetas_test"
      ],
      "execution_count": null,
      "outputs": [
        {
          "output_type": "execute_result",
          "data": {
            "text/plain": [
              "0    1657\n",
              "4    1516\n",
              "Name: FALLECIMIENTOS_TOTALES, dtype: int64"
            ]
          },
          "metadata": {},
          "execution_count": 140
        }
      ]
    },
    {
      "cell_type": "code",
      "metadata": {
        "colab": {
          "base_uri": "https://localhost:8080/"
        },
        "id": "ElkKcN_X3Q3E",
        "outputId": "e1478883-4ab9-435d-ccd0-c589841bd961"
      },
      "source": [
        "#Entrenar el modelo con una regresion lineal \n",
        "from sklearn.linear_model import LinearRegression\n",
        "modelo = LinearRegression()\n",
        "modelo.fit(Entrenamiento,etiquetas_entrenamiento)"
      ],
      "execution_count": 27,
      "outputs": [
        {
          "output_type": "execute_result",
          "data": {
            "text/plain": [
              "LinearRegression()"
            ]
          },
          "metadata": {},
          "execution_count": 27
        }
      ]
    },
    {
      "cell_type": "code",
      "metadata": {
        "colab": {
          "base_uri": "https://localhost:8080/"
        },
        "id": "fCTDVLU84qVt",
        "outputId": "0b295e1e-06b6-4cc4-b349-59d3bf4ca4d3"
      },
      "source": [
        "predicciones = modelo.predict(test)\n",
        "predicciones"
      ],
      "execution_count": 28,
      "outputs": [
        {
          "output_type": "execute_result",
          "data": {
            "text/plain": [
              "array([  11.2901987 , 2092.87658572,  407.11391231])"
            ]
          },
          "metadata": {},
          "execution_count": 28
        }
      ]
    },
    {
      "cell_type": "code",
      "metadata": {
        "colab": {
          "base_uri": "https://localhost:8080/"
        },
        "id": "Q5rJ8J5M49yG",
        "outputId": "ce764656-483e-4201-c7c6-34523e26136a"
      },
      "source": [
        "import numpy as np\n",
        "from sklearn.metrics import mean_squared_error\n",
        "error = np.sqrt(mean_squared_error(etiquetas_test,predicciones))\n",
        "print(\"Error porcentual : %f\" % (error))"
      ],
      "execution_count": 29,
      "outputs": [
        {
          "output_type": "stream",
          "name": "stdout",
          "text": [
            "Error porcentual : 2.582012\n"
          ]
        }
      ]
    },
    {
      "cell_type": "code",
      "metadata": {
        "colab": {
          "base_uri": "https://localhost:8080/",
          "height": 80
        },
        "id": "hIFp0VFwYb0c",
        "outputId": "161cda0e-6e1d-4de8-d7c5-55ace8e4bc7c"
      },
      "source": [
        "import numpy as np\n",
        "import pandas as pd\n",
        "\n",
        "casos = np.array([[12,500,550,800,1005,430,480]])\n",
        "nuevo_casos = pd.DataFrame(casos,columns=['TIPO','2016','2017',\t'2018',\t'2019',\t'2020', '2021'])\n",
        "nuevo_casos"
      ],
      "execution_count": 33,
      "outputs": [
        {
          "output_type": "execute_result",
          "data": {
            "text/html": [
              "<div>\n",
              "<style scoped>\n",
              "    .dataframe tbody tr th:only-of-type {\n",
              "        vertical-align: middle;\n",
              "    }\n",
              "\n",
              "    .dataframe tbody tr th {\n",
              "        vertical-align: top;\n",
              "    }\n",
              "\n",
              "    .dataframe thead th {\n",
              "        text-align: right;\n",
              "    }\n",
              "</style>\n",
              "<table border=\"1\" class=\"dataframe\">\n",
              "  <thead>\n",
              "    <tr style=\"text-align: right;\">\n",
              "      <th></th>\n",
              "      <th>TIPO</th>\n",
              "      <th>2016</th>\n",
              "      <th>2017</th>\n",
              "      <th>2018</th>\n",
              "      <th>2019</th>\n",
              "      <th>2020</th>\n",
              "      <th>2021</th>\n",
              "    </tr>\n",
              "  </thead>\n",
              "  <tbody>\n",
              "    <tr>\n",
              "      <th>0</th>\n",
              "      <td>12</td>\n",
              "      <td>500</td>\n",
              "      <td>550</td>\n",
              "      <td>800</td>\n",
              "      <td>1005</td>\n",
              "      <td>430</td>\n",
              "      <td>480</td>\n",
              "    </tr>\n",
              "  </tbody>\n",
              "</table>\n",
              "</div>"
            ],
            "text/plain": [
              "   TIPO  2016  2017  2018  2019  2020  2021\n",
              "0    12   500   550   800  1005   430   480"
            ]
          },
          "metadata": {},
          "execution_count": 33
        }
      ]
    },
    {
      "cell_type": "code",
      "metadata": {
        "colab": {
          "base_uri": "https://localhost:8080/"
        },
        "id": "X5c_mB6NYb4x",
        "outputId": "bc0ecbed-7756-4348-a8b8-f861f203e44d"
      },
      "source": [
        "predicciones = modelo.predict(nuevo_casos)\n",
        "predicciones"
      ],
      "execution_count": 34,
      "outputs": [
        {
          "output_type": "execute_result",
          "data": {
            "text/plain": [
              "array([3749.18301976])"
            ]
          },
          "metadata": {},
          "execution_count": 34
        }
      ]
    }
  ]
}