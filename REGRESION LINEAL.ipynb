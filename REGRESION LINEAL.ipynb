{
 "cells": [
  {
   "cell_type": "code",
   "execution_count": 2,
   "metadata": {},
   "outputs": [],
   "source": [
    "from statsmodels.formula.api import ols # for R-like formulas\n",
    "import pandas as pd # use pandas dataframes with formulas\n",
    "import statsmodels.api as sm\n",
    "import matplotlib.pyplot as plt\n"
   ]
  },
  {
   "cell_type": "code",
   "execution_count": 3,
   "metadata": {},
   "outputs": [],
   "source": [
    "#Importando la data\n",
    "\n",
    "df= pd.read_excel(\"./Fallecimientos_tipo_transposed.xlsx\")"
   ]
  },
  {
   "cell_type": "code",
   "execution_count": 4,
   "metadata": {},
   "outputs": [
    {
     "data": {
      "text/html": [
       "<div>\n",
       "<style scoped>\n",
       "    .dataframe tbody tr th:only-of-type {\n",
       "        vertical-align: middle;\n",
       "    }\n",
       "\n",
       "    .dataframe tbody tr th {\n",
       "        vertical-align: top;\n",
       "    }\n",
       "\n",
       "    .dataframe thead th {\n",
       "        text-align: right;\n",
       "    }\n",
       "</style>\n",
       "<table border=\"1\" class=\"dataframe\">\n",
       "  <thead>\n",
       "    <tr style=\"text-align: right;\">\n",
       "      <th></th>\n",
       "      <th>2016</th>\n",
       "      <th>2017</th>\n",
       "      <th>2018</th>\n",
       "      <th>2019</th>\n",
       "      <th>2020</th>\n",
       "      <th>2021</th>\n",
       "      <th>FALLECIMIENTOS_TOTALES</th>\n",
       "    </tr>\n",
       "  </thead>\n",
       "  <tbody>\n",
       "    <tr>\n",
       "      <th>count</th>\n",
       "      <td>9.000000</td>\n",
       "      <td>9.000000</td>\n",
       "      <td>9.000000</td>\n",
       "      <td>9.000000</td>\n",
       "      <td>9.00000</td>\n",
       "      <td>9.000000</td>\n",
       "      <td>9.000000</td>\n",
       "    </tr>\n",
       "    <tr>\n",
       "      <th>mean</th>\n",
       "      <td>571.555556</td>\n",
       "      <td>610.555556</td>\n",
       "      <td>406.222222</td>\n",
       "      <td>627.333333</td>\n",
       "      <td>523.00000</td>\n",
       "      <td>579.888889</td>\n",
       "      <td>3318.555556</td>\n",
       "    </tr>\n",
       "    <tr>\n",
       "      <th>std</th>\n",
       "      <td>276.387912</td>\n",
       "      <td>252.609437</td>\n",
       "      <td>271.633843</td>\n",
       "      <td>278.940854</td>\n",
       "      <td>196.54516</td>\n",
       "      <td>384.831601</td>\n",
       "      <td>884.889274</td>\n",
       "    </tr>\n",
       "    <tr>\n",
       "      <th>min</th>\n",
       "      <td>100.000000</td>\n",
       "      <td>229.000000</td>\n",
       "      <td>90.000000</td>\n",
       "      <td>166.000000</td>\n",
       "      <td>148.00000</td>\n",
       "      <td>28.000000</td>\n",
       "      <td>2027.000000</td>\n",
       "    </tr>\n",
       "    <tr>\n",
       "      <th>25%</th>\n",
       "      <td>507.000000</td>\n",
       "      <td>337.000000</td>\n",
       "      <td>245.000000</td>\n",
       "      <td>477.000000</td>\n",
       "      <td>392.00000</td>\n",
       "      <td>190.000000</td>\n",
       "      <td>2703.000000</td>\n",
       "    </tr>\n",
       "    <tr>\n",
       "      <th>50%</th>\n",
       "      <td>563.000000</td>\n",
       "      <td>664.000000</td>\n",
       "      <td>346.000000</td>\n",
       "      <td>730.000000</td>\n",
       "      <td>548.00000</td>\n",
       "      <td>817.000000</td>\n",
       "      <td>3148.000000</td>\n",
       "    </tr>\n",
       "    <tr>\n",
       "      <th>75%</th>\n",
       "      <td>766.000000</td>\n",
       "      <td>774.000000</td>\n",
       "      <td>523.000000</td>\n",
       "      <td>810.000000</td>\n",
       "      <td>636.00000</td>\n",
       "      <td>936.000000</td>\n",
       "      <td>4094.000000</td>\n",
       "    </tr>\n",
       "    <tr>\n",
       "      <th>max</th>\n",
       "      <td>938.000000</td>\n",
       "      <td>904.000000</td>\n",
       "      <td>933.000000</td>\n",
       "      <td>953.000000</td>\n",
       "      <td>808.00000</td>\n",
       "      <td>946.000000</td>\n",
       "      <td>4409.000000</td>\n",
       "    </tr>\n",
       "  </tbody>\n",
       "</table>\n",
       "</div>"
      ],
      "text/plain": [
       "             2016        2017        2018        2019       2020        2021  \\\n",
       "count    9.000000    9.000000    9.000000    9.000000    9.00000    9.000000   \n",
       "mean   571.555556  610.555556  406.222222  627.333333  523.00000  579.888889   \n",
       "std    276.387912  252.609437  271.633843  278.940854  196.54516  384.831601   \n",
       "min    100.000000  229.000000   90.000000  166.000000  148.00000   28.000000   \n",
       "25%    507.000000  337.000000  245.000000  477.000000  392.00000  190.000000   \n",
       "50%    563.000000  664.000000  346.000000  730.000000  548.00000  817.000000   \n",
       "75%    766.000000  774.000000  523.000000  810.000000  636.00000  936.000000   \n",
       "max    938.000000  904.000000  933.000000  953.000000  808.00000  946.000000   \n",
       "\n",
       "       FALLECIMIENTOS_TOTALES  \n",
       "count                9.000000  \n",
       "mean              3318.555556  \n",
       "std                884.889274  \n",
       "min               2027.000000  \n",
       "25%               2703.000000  \n",
       "50%               3148.000000  \n",
       "75%               4094.000000  \n",
       "max               4409.000000  "
      ]
     },
     "execution_count": 4,
     "metadata": {},
     "output_type": "execute_result"
    }
   ],
   "source": [
    "df.describe()"
   ]
  },
  {
   "cell_type": "code",
   "execution_count": 5,
   "metadata": {},
   "outputs": [
    {
     "name": "stdout",
     "output_type": "stream",
     "text": [
      "<class 'pandas.core.frame.DataFrame'>\n",
      "RangeIndex: 9 entries, 0 to 8\n",
      "Data columns (total 8 columns):\n",
      " #   Column                  Non-Null Count  Dtype \n",
      "---  ------                  --------------  ----- \n",
      " 0   TIPO                    9 non-null      object\n",
      " 1   2016                    9 non-null      int64 \n",
      " 2   2017                    9 non-null      int64 \n",
      " 3   2018                    9 non-null      int64 \n",
      " 4   2019                    9 non-null      int64 \n",
      " 5   2020                    9 non-null      int64 \n",
      " 6   2021                    9 non-null      int64 \n",
      " 7   FALLECIMIENTOS_TOTALES  9 non-null      int64 \n",
      "dtypes: int64(7), object(1)\n",
      "memory usage: 704.0+ bytes\n"
     ]
    }
   ],
   "source": [
    "df.info()"
   ]
  },
  {
   "cell_type": "code",
   "execution_count": 6,
   "metadata": {},
   "outputs": [
    {
     "data": {
      "text/plain": [
       "array(['Aplastamiento', 'Atropello', 'Caí\\xadda', 'Colisiones',\n",
       "       'Colisiones con Animales', 'Deslizamiento', 'Estrellamiento',\n",
       "       'Volcadura', 'Sin Especificación'], dtype=object)"
      ]
     },
     "execution_count": 6,
     "metadata": {},
     "output_type": "execute_result"
    }
   ],
   "source": [
    "df['TIPO'].unique()"
   ]
  },
  {
   "cell_type": "code",
   "execution_count": 11,
   "metadata": {},
   "outputs": [],
   "source": [
    "df['TIPO'].replace(['Aplastamiento', 'Atropello', 'Caí\\xadda', 'Colisiones',\n",
    "       'Colisiones con Animales', 'Deslizamiento', 'Estrellamiento',\n",
    "       'Volcadura', 'Sin Especificación'],[0,1,2,3,4,5,6,7,8],inplace=True)"
   ]
  },
  {
   "cell_type": "code",
   "execution_count": 12,
   "metadata": {},
   "outputs": [
    {
     "data": {
      "text/plain": [
       "array([0, 1, 2, 3, 4, 5, 6, 7], dtype=int64)"
      ]
     },
     "execution_count": 12,
     "metadata": {},
     "output_type": "execute_result"
    }
   ],
   "source": [
    "df['TIPO'].unique()"
   ]
  },
  {
   "cell_type": "code",
   "execution_count": 13,
   "metadata": {},
   "outputs": [
    {
     "data": {
      "text/plain": [
       "TIPO                      0\n",
       "2016                      0\n",
       "2017                      0\n",
       "2018                      0\n",
       "2019                      0\n",
       "2020                      0\n",
       "2021                      0\n",
       "FALLECIMIENTOS_TOTALES    0\n",
       "dtype: int64"
      ]
     },
     "execution_count": 13,
     "metadata": {},
     "output_type": "execute_result"
    }
   ],
   "source": [
    "#Buscando valores nulos\n",
    "df.isnull().sum()"
   ]
  },
  {
   "cell_type": "code",
   "execution_count": 14,
   "metadata": {},
   "outputs": [
    {
     "data": {
      "text/html": [
       "<div>\n",
       "<style scoped>\n",
       "    .dataframe tbody tr th:only-of-type {\n",
       "        vertical-align: middle;\n",
       "    }\n",
       "\n",
       "    .dataframe tbody tr th {\n",
       "        vertical-align: top;\n",
       "    }\n",
       "\n",
       "    .dataframe thead th {\n",
       "        text-align: right;\n",
       "    }\n",
       "</style>\n",
       "<table border=\"1\" class=\"dataframe\">\n",
       "  <thead>\n",
       "    <tr style=\"text-align: right;\">\n",
       "      <th></th>\n",
       "      <th>TIPO</th>\n",
       "      <th>2016</th>\n",
       "      <th>2017</th>\n",
       "      <th>2018</th>\n",
       "      <th>2019</th>\n",
       "      <th>2020</th>\n",
       "      <th>2021</th>\n",
       "      <th>FALLECIMIENTOS_TOTALES</th>\n",
       "    </tr>\n",
       "  </thead>\n",
       "  <tbody>\n",
       "    <tr>\n",
       "      <th>0</th>\n",
       "      <td>0</td>\n",
       "      <td>563</td>\n",
       "      <td>664</td>\n",
       "      <td>308</td>\n",
       "      <td>932</td>\n",
       "      <td>691</td>\n",
       "      <td>936</td>\n",
       "      <td>4094</td>\n",
       "    </tr>\n",
       "    <tr>\n",
       "      <th>1</th>\n",
       "      <td>1</td>\n",
       "      <td>100</td>\n",
       "      <td>880</td>\n",
       "      <td>523</td>\n",
       "      <td>730</td>\n",
       "      <td>492</td>\n",
       "      <td>28</td>\n",
       "      <td>2753</td>\n",
       "    </tr>\n",
       "    <tr>\n",
       "      <th>2</th>\n",
       "      <td>2</td>\n",
       "      <td>938</td>\n",
       "      <td>727</td>\n",
       "      <td>933</td>\n",
       "      <td>477</td>\n",
       "      <td>392</td>\n",
       "      <td>942</td>\n",
       "      <td>4409</td>\n",
       "    </tr>\n",
       "    <tr>\n",
       "      <th>3</th>\n",
       "      <td>3</td>\n",
       "      <td>518</td>\n",
       "      <td>337</td>\n",
       "      <td>434</td>\n",
       "      <td>166</td>\n",
       "      <td>382</td>\n",
       "      <td>190</td>\n",
       "      <td>2027</td>\n",
       "    </tr>\n",
       "    <tr>\n",
       "      <th>4</th>\n",
       "      <td>4</td>\n",
       "      <td>766</td>\n",
       "      <td>229</td>\n",
       "      <td>107</td>\n",
       "      <td>810</td>\n",
       "      <td>148</td>\n",
       "      <td>401</td>\n",
       "      <td>2461</td>\n",
       "    </tr>\n",
       "    <tr>\n",
       "      <th>5</th>\n",
       "      <td>4</td>\n",
       "      <td>223</td>\n",
       "      <td>662</td>\n",
       "      <td>346</td>\n",
       "      <td>782</td>\n",
       "      <td>548</td>\n",
       "      <td>142</td>\n",
       "      <td>2703</td>\n",
       "    </tr>\n",
       "    <tr>\n",
       "      <th>6</th>\n",
       "      <td>5</td>\n",
       "      <td>847</td>\n",
       "      <td>318</td>\n",
       "      <td>90</td>\n",
       "      <td>311</td>\n",
       "      <td>636</td>\n",
       "      <td>946</td>\n",
       "      <td>3148</td>\n",
       "    </tr>\n",
       "    <tr>\n",
       "      <th>7</th>\n",
       "      <td>6</td>\n",
       "      <td>682</td>\n",
       "      <td>774</td>\n",
       "      <td>245</td>\n",
       "      <td>953</td>\n",
       "      <td>610</td>\n",
       "      <td>817</td>\n",
       "      <td>4081</td>\n",
       "    </tr>\n",
       "    <tr>\n",
       "      <th>8</th>\n",
       "      <td>7</td>\n",
       "      <td>507</td>\n",
       "      <td>904</td>\n",
       "      <td>670</td>\n",
       "      <td>485</td>\n",
       "      <td>808</td>\n",
       "      <td>817</td>\n",
       "      <td>4191</td>\n",
       "    </tr>\n",
       "  </tbody>\n",
       "</table>\n",
       "</div>"
      ],
      "text/plain": [
       "   TIPO  2016  2017  2018  2019  2020  2021  FALLECIMIENTOS_TOTALES\n",
       "0     0   563   664   308   932   691   936                    4094\n",
       "1     1   100   880   523   730   492    28                    2753\n",
       "2     2   938   727   933   477   392   942                    4409\n",
       "3     3   518   337   434   166   382   190                    2027\n",
       "4     4   766   229   107   810   148   401                    2461\n",
       "5     4   223   662   346   782   548   142                    2703\n",
       "6     5   847   318    90   311   636   946                    3148\n",
       "7     6   682   774   245   953   610   817                    4081\n",
       "8     7   507   904   670   485   808   817                    4191"
      ]
     },
     "execution_count": 14,
     "metadata": {},
     "output_type": "execute_result"
    }
   ],
   "source": [
    "df"
   ]
  },
  {
   "cell_type": "code",
   "execution_count": 15,
   "metadata": {},
   "outputs": [],
   "source": [
    "# Primer modelo usando dos variables\n",
    "\n",
    "#formula.api.ols hace intercepto automaticamente\n",
    "#modelo1\n",
    "estimator = ols(formula='FALLECIMIENTOS_TOTALES ~ TIPO', data=df)\n",
    "trained_estimator = estimator.fit()"
   ]
  },
  {
   "cell_type": "code",
   "execution_count": 16,
   "metadata": {},
   "outputs": [
    {
     "data": {
      "text/plain": [
       "Intercept    3177.315789\n",
       "TIPO           39.723684\n",
       "dtype: float64"
      ]
     },
     "execution_count": 16,
     "metadata": {},
     "output_type": "execute_result"
    }
   ],
   "source": [
    "#coeficientes\n",
    "trained_estimator.params"
   ]
  },
  {
   "cell_type": "code",
   "execution_count": 17,
   "metadata": {},
   "outputs": [
    {
     "name": "stdout",
     "output_type": "stream",
     "text": [
      "                              OLS Regression Results                              \n",
      "==================================================================================\n",
      "Dep. Variable:     FALLECIMIENTOS_TOTALES   R-squared:                       0.011\n",
      "Model:                                OLS   Adj. R-squared:                 -0.131\n",
      "Method:                     Least Squares   F-statistic:                   0.07525\n",
      "Date:                    Thu, 25 Nov 2021   Prob (F-statistic):              0.792\n",
      "Time:                            12:42:05   Log-Likelihood:                -73.261\n",
      "No. Observations:                       9   AIC:                             150.5\n",
      "Df Residuals:                           7   BIC:                             150.9\n",
      "Df Model:                               1                                         \n",
      "Covariance Type:                nonrobust                                         \n",
      "==============================================================================\n",
      "                 coef    std err          t      P>|t|      [0.025      0.975]\n",
      "------------------------------------------------------------------------------\n",
      "Intercept   3177.3158    602.884      5.270      0.001    1751.723    4602.909\n",
      "TIPO          39.7237    144.808      0.274      0.792    -302.693     382.140\n",
      "==============================================================================\n",
      "Omnibus:                        2.477   Durbin-Watson:                   1.866\n",
      "Prob(Omnibus):                  0.290   Jarque-Bera (JB):                0.858\n",
      "Skew:                          -0.017   Prob(JB):                        0.651\n",
      "Kurtosis:                       1.488   Cond. No.                         8.34\n",
      "==============================================================================\n",
      "\n",
      "Notes:\n",
      "[1] Standard Errors assume that the covariance matrix of the errors is correctly specified.\n"
     ]
    },
    {
     "name": "stderr",
     "output_type": "stream",
     "text": [
      "D:\\Anaconda\\lib\\site-packages\\scipy\\stats\\stats.py:1603: UserWarning: kurtosistest only valid for n>=20 ... continuing anyway, n=9\n",
      "  warnings.warn(\"kurtosistest only valid for n>=20 ... continuing \"\n"
     ]
    }
   ],
   "source": [
    "#summary\n",
    "print(trained_estimator.summary())"
   ]
  },
  {
   "cell_type": "code",
   "execution_count": 18,
   "metadata": {},
   "outputs": [],
   "source": [
    "# Segundo modelo usando dos variables/ Eliminando las variables que no fueron signifcativas Country y Purchased.\n",
    "\n",
    "#formula.api.ols hace intercepto automaticamente\n",
    "#modelo1\n",
    "estimator = ols(formula='FALLECIMIENTOS_TOTALES ~  TIPO ', data=df)\n",
    "trained_estimator = estimator.fit()"
   ]
  },
  {
   "cell_type": "code",
   "execution_count": 19,
   "metadata": {},
   "outputs": [
    {
     "data": {
      "text/plain": [
       "Intercept    3177.315789\n",
       "TIPO           39.723684\n",
       "dtype: float64"
      ]
     },
     "execution_count": 19,
     "metadata": {},
     "output_type": "execute_result"
    }
   ],
   "source": [
    "#coeficientes\n",
    "trained_estimator.params"
   ]
  },
  {
   "cell_type": "code",
   "execution_count": 20,
   "metadata": {},
   "outputs": [
    {
     "name": "stdout",
     "output_type": "stream",
     "text": [
      "                              OLS Regression Results                              \n",
      "==================================================================================\n",
      "Dep. Variable:     FALLECIMIENTOS_TOTALES   R-squared:                       0.011\n",
      "Model:                                OLS   Adj. R-squared:                 -0.131\n",
      "Method:                     Least Squares   F-statistic:                   0.07525\n",
      "Date:                    Thu, 25 Nov 2021   Prob (F-statistic):              0.792\n",
      "Time:                            12:42:10   Log-Likelihood:                -73.261\n",
      "No. Observations:                       9   AIC:                             150.5\n",
      "Df Residuals:                           7   BIC:                             150.9\n",
      "Df Model:                               1                                         \n",
      "Covariance Type:                nonrobust                                         \n",
      "==============================================================================\n",
      "                 coef    std err          t      P>|t|      [0.025      0.975]\n",
      "------------------------------------------------------------------------------\n",
      "Intercept   3177.3158    602.884      5.270      0.001    1751.723    4602.909\n",
      "TIPO          39.7237    144.808      0.274      0.792    -302.693     382.140\n",
      "==============================================================================\n",
      "Omnibus:                        2.477   Durbin-Watson:                   1.866\n",
      "Prob(Omnibus):                  0.290   Jarque-Bera (JB):                0.858\n",
      "Skew:                          -0.017   Prob(JB):                        0.651\n",
      "Kurtosis:                       1.488   Cond. No.                         8.34\n",
      "==============================================================================\n",
      "\n",
      "Notes:\n",
      "[1] Standard Errors assume that the covariance matrix of the errors is correctly specified.\n"
     ]
    },
    {
     "name": "stderr",
     "output_type": "stream",
     "text": [
      "D:\\Anaconda\\lib\\site-packages\\scipy\\stats\\stats.py:1603: UserWarning: kurtosistest only valid for n>=20 ... continuing anyway, n=9\n",
      "  warnings.warn(\"kurtosistest only valid for n>=20 ... continuing \"\n"
     ]
    }
   ],
   "source": [
    "#summary\n",
    "print(trained_estimator.summary())"
   ]
  },
  {
   "cell_type": "code",
   "execution_count": 35,
   "metadata": {},
   "outputs": [],
   "source": [
    "# Gráficando la correlación"
   ]
  },
  {
   "cell_type": "code",
   "execution_count": 21,
   "metadata": {},
   "outputs": [],
   "source": [
    "import matplotlib.pyplot as plt"
   ]
  },
  {
   "cell_type": "code",
   "execution_count": 22,
   "metadata": {},
   "outputs": [
    {
     "data": {
      "text/plain": [
       "[<matplotlib.lines.Line2D at 0x2832147d040>]"
      ]
     },
     "execution_count": 22,
     "metadata": {},
     "output_type": "execute_result"
    },
    {
     "data": {
      "image/png": "[encoded data removed]",
      "text/plain": [
       "<Figure size 432x288 with 1 Axes>"
      ]
     },
     "metadata": {
      "needs_background": "light"
     },
     "output_type": "display_data"
    }
   ],
   "source": [
    "plt.plot(df['TIPO'],df['FALLECIMIENTOS_TOTALES'])"
   ]
  },
  {
   "cell_type": "code",
   "execution_count": 23,
   "metadata": {},
   "outputs": [
    {
     "data": {
      "text/plain": [
       "<matplotlib.collections.PathCollection at 0x2832154a580>"
      ]
     },
     "execution_count": 23,
     "metadata": {},
     "output_type": "execute_result"
    },
    {
     "data": {
      "image/png": "[encoded data removed]",
      "text/plain": [
       "<Figure size 432x288 with 1 Axes>"
      ]
     },
     "metadata": {
      "needs_background": "light"
     },
     "output_type": "display_data"
    }
   ],
   "source": [
    "plt.scatter(df['TIPO'],df['FALLECIMIENTOS_TOTALES'])"
   ]
  }
 ],
 "metadata": {
  "kernelspec": {
   "display_name": "Python 3",
   "language": "python",
   "name": "python3"
  },
  "language_info": {
   "codemirror_mode": {
    "name": "ipython",
    "version": 3
   },
   "file_extension": ".py",
   "mimetype": "text/x-python",
   "name": "python",
   "nbconvert_exporter": "python",
   "pygments_lexer": "ipython3",
   "version": "3.8.8"
  }
 },
 "nbformat": 4,
 "nbformat_minor": 4
}
